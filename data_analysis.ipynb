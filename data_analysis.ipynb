{
 "cells": [
  {
   "cell_type": "markdown",
   "metadata": {},
   "source": [
    "# Basic Data Analysis\n",
    "## fa-23-team-a"
   ]
  },
  {
   "cell_type": "code",
   "execution_count": 2,
   "metadata": {},
   "outputs": [],
   "source": [
    "import pandas as pd\n",
    "import matplotlib.pyplot as plt\n",
    "import numpy as np"
   ]
  },
  {
   "cell_type": "code",
   "execution_count": 73,
   "metadata": {},
   "outputs": [
    {
     "data": {
      "text/html": [
       "<div>\n",
       "<style scoped>\n",
       "    .dataframe tbody tr th:only-of-type {\n",
       "        vertical-align: middle;\n",
       "    }\n",
       "\n",
       "    .dataframe tbody tr th {\n",
       "        vertical-align: top;\n",
       "    }\n",
       "\n",
       "    .dataframe thead th {\n",
       "        text-align: right;\n",
       "    }\n",
       "</style>\n",
       "<table border=\"1\" class=\"dataframe\">\n",
       "  <thead>\n",
       "    <tr style=\"text-align: right;\">\n",
       "      <th></th>\n",
       "      <th>Data Input Year</th>\n",
       "      <th>Student</th>\n",
       "      <th>State</th>\n",
       "      <th>US Region</th>\n",
       "      <th>Country</th>\n",
       "      <th>English Language Primary Language of Country</th>\n",
       "      <th>IPEDS Race Description</th>\n",
       "      <th>Athletic Code 1</th>\n",
       "      <th>Team Gender</th>\n",
       "      <th>Athletic Code Description 1</th>\n",
       "      <th>...</th>\n",
       "      <th>Semester GPI-13th Sem</th>\n",
       "      <th>Semester GPI-14th Sem</th>\n",
       "      <th>Semester GPI-15th Sem</th>\n",
       "      <th>Semester GPI-16th Sem</th>\n",
       "      <th>Semester GPI-17th Sem</th>\n",
       "      <th>Semester GPI-18th Sem</th>\n",
       "      <th>Semester GPI-19th Sem</th>\n",
       "      <th>Semester GPI-20th Sem</th>\n",
       "      <th>Semester GPI-21st Sem</th>\n",
       "      <th>Semester GPI-22nd Sem</th>\n",
       "    </tr>\n",
       "  </thead>\n",
       "  <tbody>\n",
       "    <tr>\n",
       "      <th>0</th>\n",
       "      <td>2022</td>\n",
       "      <td>1</td>\n",
       "      <td>NaN</td>\n",
       "      <td>NaN</td>\n",
       "      <td>Canada</td>\n",
       "      <td>English</td>\n",
       "      <td>Non-Resident Alien</td>\n",
       "      <td>HC</td>\n",
       "      <td>M</td>\n",
       "      <td>MEN'S ICE HOCKEY</td>\n",
       "      <td>...</td>\n",
       "      <td>0.0</td>\n",
       "      <td>0.0</td>\n",
       "      <td>0.0</td>\n",
       "      <td>0.0</td>\n",
       "      <td>0.0</td>\n",
       "      <td>0.0</td>\n",
       "      <td>0.0</td>\n",
       "      <td>0.0</td>\n",
       "      <td>0.0</td>\n",
       "      <td>0.0</td>\n",
       "    </tr>\n",
       "    <tr>\n",
       "      <th>1</th>\n",
       "      <td>2021</td>\n",
       "      <td>2</td>\n",
       "      <td>CT</td>\n",
       "      <td>NaN</td>\n",
       "      <td>NaN</td>\n",
       "      <td>NaN</td>\n",
       "      <td>African American or Black</td>\n",
       "      <td>SC</td>\n",
       "      <td>M</td>\n",
       "      <td>MEN'S SOCCER</td>\n",
       "      <td>...</td>\n",
       "      <td>0.0</td>\n",
       "      <td>0.0</td>\n",
       "      <td>0.0</td>\n",
       "      <td>0.0</td>\n",
       "      <td>0.0</td>\n",
       "      <td>0.0</td>\n",
       "      <td>0.0</td>\n",
       "      <td>0.0</td>\n",
       "      <td>0.0</td>\n",
       "      <td>0.0</td>\n",
       "    </tr>\n",
       "    <tr>\n",
       "      <th>2</th>\n",
       "      <td>2023</td>\n",
       "      <td>3</td>\n",
       "      <td>CA</td>\n",
       "      <td>NaN</td>\n",
       "      <td>NaN</td>\n",
       "      <td>NaN</td>\n",
       "      <td>White</td>\n",
       "      <td>MC</td>\n",
       "      <td>M</td>\n",
       "      <td>MEN'S ROWING</td>\n",
       "      <td>...</td>\n",
       "      <td>0.0</td>\n",
       "      <td>0.0</td>\n",
       "      <td>0.0</td>\n",
       "      <td>0.0</td>\n",
       "      <td>0.0</td>\n",
       "      <td>0.0</td>\n",
       "      <td>0.0</td>\n",
       "      <td>0.0</td>\n",
       "      <td>0.0</td>\n",
       "      <td>0.0</td>\n",
       "    </tr>\n",
       "    <tr>\n",
       "      <th>3</th>\n",
       "      <td>2023</td>\n",
       "      <td>14</td>\n",
       "      <td>NaN</td>\n",
       "      <td>NaN</td>\n",
       "      <td>Italy</td>\n",
       "      <td>Non-English</td>\n",
       "      <td>Non-Resident Alien</td>\n",
       "      <td>SC</td>\n",
       "      <td>M</td>\n",
       "      <td>MEN'S SOCCER</td>\n",
       "      <td>...</td>\n",
       "      <td>0.0</td>\n",
       "      <td>0.0</td>\n",
       "      <td>0.0</td>\n",
       "      <td>0.0</td>\n",
       "      <td>0.0</td>\n",
       "      <td>0.0</td>\n",
       "      <td>0.0</td>\n",
       "      <td>0.0</td>\n",
       "      <td>0.0</td>\n",
       "      <td>0.0</td>\n",
       "    </tr>\n",
       "    <tr>\n",
       "      <th>4</th>\n",
       "      <td>2023</td>\n",
       "      <td>15</td>\n",
       "      <td>NaN</td>\n",
       "      <td>NaN</td>\n",
       "      <td>Germany</td>\n",
       "      <td>Non-English</td>\n",
       "      <td>Non-Resident Alien</td>\n",
       "      <td>MC</td>\n",
       "      <td>M</td>\n",
       "      <td>MEN'S ROWING</td>\n",
       "      <td>...</td>\n",
       "      <td>0.0</td>\n",
       "      <td>0.0</td>\n",
       "      <td>0.0</td>\n",
       "      <td>0.0</td>\n",
       "      <td>0.0</td>\n",
       "      <td>0.0</td>\n",
       "      <td>0.0</td>\n",
       "      <td>0.0</td>\n",
       "      <td>0.0</td>\n",
       "      <td>0.0</td>\n",
       "    </tr>\n",
       "  </tbody>\n",
       "</table>\n",
       "<p>5 rows × 74 columns</p>\n",
       "</div>"
      ],
      "text/plain": [
       "   Data Input Year  Student State  US Region  Country  \\\n",
       "0             2022        1   NaN        NaN   Canada   \n",
       "1             2021        2    CT        NaN      NaN   \n",
       "2             2023        3    CA        NaN      NaN   \n",
       "3             2023       14   NaN        NaN    Italy   \n",
       "4             2023       15   NaN        NaN  Germany   \n",
       "\n",
       "  English Language Primary Language of Country     IPEDS Race Description  \\\n",
       "0                                      English         Non-Resident Alien   \n",
       "1                                          NaN  African American or Black   \n",
       "2                                          NaN                      White   \n",
       "3                                  Non-English         Non-Resident Alien   \n",
       "4                                  Non-English         Non-Resident Alien   \n",
       "\n",
       "  Athletic Code 1 Team Gender Athletic Code Description 1  ...  \\\n",
       "0              HC           M            MEN'S ICE HOCKEY  ...   \n",
       "1              SC           M                MEN'S SOCCER  ...   \n",
       "2              MC           M                MEN'S ROWING  ...   \n",
       "3              SC           M                MEN'S SOCCER  ...   \n",
       "4              MC           M                MEN'S ROWING  ...   \n",
       "\n",
       "  Semester GPI-13th Sem Semester GPI-14th Sem Semester GPI-15th Sem  \\\n",
       "0                   0.0                   0.0                   0.0   \n",
       "1                   0.0                   0.0                   0.0   \n",
       "2                   0.0                   0.0                   0.0   \n",
       "3                   0.0                   0.0                   0.0   \n",
       "4                   0.0                   0.0                   0.0   \n",
       "\n",
       "  Semester GPI-16th Sem Semester GPI-17th Sem  Semester GPI-18th Sem  \\\n",
       "0                   0.0                   0.0                    0.0   \n",
       "1                   0.0                   0.0                    0.0   \n",
       "2                   0.0                   0.0                    0.0   \n",
       "3                   0.0                   0.0                    0.0   \n",
       "4                   0.0                   0.0                    0.0   \n",
       "\n",
       "   Semester GPI-19th Sem  Semester GPI-20th Sem  Semester GPI-21st Sem  \\\n",
       "0                    0.0                    0.0                    0.0   \n",
       "1                    0.0                    0.0                    0.0   \n",
       "2                    0.0                    0.0                    0.0   \n",
       "3                    0.0                    0.0                    0.0   \n",
       "4                    0.0                    0.0                    0.0   \n",
       "\n",
       "   Semester GPI-22nd Sem  \n",
       "0                    0.0  \n",
       "1                    0.0  \n",
       "2                    0.0  \n",
       "3                    0.0  \n",
       "4                    0.0  \n",
       "\n",
       "[5 rows x 74 columns]"
      ]
     },
     "execution_count": 73,
     "metadata": {},
     "output_type": "execute_result"
    }
   ],
   "source": [
    "df = pd.read_csv(\"bu_athletics_data.csv\")\n",
    "df.head()"
   ]
  },
  {
   "cell_type": "markdown",
   "metadata": {},
   "source": [
    "### Range of accepted highschool GPA"
   ]
  },
  {
   "cell_type": "code",
   "execution_count": 11,
   "metadata": {},
   "outputs": [
    {
     "name": "stdout",
     "output_type": "stream",
     "text": [
      "Maximum highschool GPA: 4.3\n",
      "Minimum highschool GPA: 2.2\n"
     ]
    }
   ],
   "source": [
    "max_hs_gpa = df[\"HSGPA\"].max()\n",
    "min_hs_gpa = df[\"HSGPA\"].min()\n",
    "print(\"Maximum highschool GPA:\", max_hs_gpa)\n",
    "print(\"Minimum highschool GPA:\", min_hs_gpa)"
   ]
  },
  {
   "cell_type": "code",
   "execution_count": 31,
   "metadata": {},
   "outputs": [
    {
     "data": {
      "image/png": "[encoded data removed]",
      "text/plain": [
       "<Figure size 432x288 with 1 Axes>"
      ]
     },
     "metadata": {
      "needs_background": "light"
     },
     "output_type": "display_data"
    }
   ],
   "source": [
    "hsgpa_no_na = df[\"HSGPA\"].dropna()\n",
    "plt.hist(hsgpa_no_na, bins=10)\n",
    "plt.title(\"Histogram of highschool GPAs\")\n",
    "plt.ylabel(\"Frequency\")\n",
    "plt.show()"
   ]
  },
  {
   "cell_type": "markdown",
   "metadata": {},
   "source": [
    "### Range of accepted SAT/ACT scores"
   ]
  },
  {
   "cell_type": "code",
   "execution_count": 34,
   "metadata": {},
   "outputs": [
    {
     "name": "stdout",
     "output_type": "stream",
     "text": [
      "Maximum SAT score: 1600.0\n",
      "Minimum SAT score: 950.0\n"
     ]
    }
   ],
   "source": [
    "min_sat = df[\"SATCFORAI\"].min()\n",
    "max_sat = df[\"SATCFORAI\"].max()\n",
    "print(\"Maximum SAT score:\", max_sat)\n",
    "print(\"Minimum SAT score:\", min_sat)"
   ]
  },
  {
   "cell_type": "code",
   "execution_count": 38,
   "metadata": {},
   "outputs": [
    {
     "data": {
      "image/png": "[encoded data removed]",
      "text/plain": [
       "<Figure size 432x288 with 1 Axes>"
      ]
     },
     "metadata": {
      "needs_background": "light"
     },
     "output_type": "display_data"
    }
   ],
   "source": [
    "sat_no_na = df[\"SATCFORAI\"].dropna()\n",
    "plt.hist(sat_no_na, bins=9)\n",
    "plt.title(\"Histogram of SAT scores\")\n",
    "plt.ylabel(\"Frequency\")\n",
    "plt.show()"
   ]
  },
  {
   "cell_type": "markdown",
   "metadata": {},
   "source": [
    "### Student composition"
   ]
  },
  {
   "cell_type": "code",
   "execution_count": 51,
   "metadata": {},
   "outputs": [
    {
     "data": {
      "image/png": "[encoded data removed]",
      "text/plain": [
       "<Figure size 432x288 with 1 Axes>"
      ]
     },
     "metadata": {
      "needs_background": "light"
     },
     "output_type": "display_data"
    }
   ],
   "source": [
    "num_intl = df[\"State\"].isna().sum()\n",
    "num_domestic = df.shape[0] - num_intl\n",
    "comp = [\"International\", \"Domestic\"]\n",
    "comp_percent = [num_intl / (num_intl + num_domestic), num_domestic / (num_intl + num_domestic)]\n",
    "plt.bar(comp, comp_percent, width=0.8)\n",
    "plt.xlabel(\"Student Type\")\n",
    "plt.ylabel(\"Percentage\")\n",
    "plt.title(\"Student Composition\")\n",
    "plt.show()"
   ]
  },
  {
   "cell_type": "markdown",
   "metadata": {},
   "source": [
    "### Effect of English being the primary language on highschool/SAT/ACT performance"
   ]
  },
  {
   "cell_type": "code",
   "execution_count": 76,
   "metadata": {},
   "outputs": [
    {
     "data": {
      "image/png": "[encoded data removed]",
      "text/plain": [
       "<Figure size 432x288 with 1 Axes>"
      ]
     },
     "metadata": {
      "needs_background": "light"
     },
     "output_type": "display_data"
    }
   ],
   "source": [
    "num_english = df[(df[\"State\"].notna()) | \n",
    "                   (df[\"English Language Primary Language of Country\"] == 'English')].shape[0]\n",
    "num_non_english = df[df[\"English Language Primary Language of Country\"] == 'Non-English'].shape[0]\n",
    "primary_lang = [\"English\", \"Non-English\"]\n",
    "count = [num_english, num_non_english]\n",
    "plt.bar(primary_lang, count, width=0.8)\n",
    "plt.xlabel(\"Primary Language\")\n",
    "plt.ylabel(\"Number of Students\")\n",
    "plt.title(\"Number of students based on primary language\")\n",
    "plt.show()"
   ]
  },
  {
   "cell_type": "code",
   "execution_count": 56,
   "metadata": {},
   "outputs": [
    {
     "data": {
      "image/png": "[encoded data removed]",
      "text/plain": [
       "<Figure size 432x288 with 1 Axes>"
      ]
     },
     "metadata": {
      "needs_background": "light"
     },
     "output_type": "display_data"
    }
   ],
   "source": [
    "hsgpa_english = df[(df[\"State\"].notna()) | \n",
    "                   (df[\"English Language Primary Language of Country\"] == 'English')][\"HSGPA\"].mean()\n",
    "hsgpa_non_english = df[df[\"English Language Primary Language of Country\"] == 'Non-English'][\"HSGPA\"].mean()\n",
    "primary_lang = [\"English\", \"Non-English\"]\n",
    "performance = [hsgpa_english, hsgpa_non_english]\n",
    "plt.bar(primary_lang, performance, width=0.8)\n",
    "plt.xlabel(\"Primary Language\")\n",
    "plt.ylabel(\"Average Highschool GPA\")\n",
    "plt.title(\"Average highschool GPA based on primary language\")\n",
    "plt.show()"
   ]
  },
  {
   "cell_type": "code",
   "execution_count": 57,
   "metadata": {},
   "outputs": [
    {
     "data": {
      "image/png": "[encoded data removed]",
      "text/plain": [
       "<Figure size 432x288 with 1 Axes>"
      ]
     },
     "metadata": {
      "needs_background": "light"
     },
     "output_type": "display_data"
    }
   ],
   "source": [
    "sat_english = df[(df[\"State\"].notna()) | \n",
    "                   (df[\"English Language Primary Language of Country\"] == 'English')][\"SATCFORAI\"].mean()\n",
    "sat_non_english = df[df[\"English Language Primary Language of Country\"] == 'Non-English'][\"SATCFORAI\"].mean()\n",
    "primary_lang = [\"English\", \"Non-English\"]\n",
    "performance = [sat_english, sat_non_english]\n",
    "plt.bar(primary_lang, performance, width=0.8)\n",
    "plt.xlabel(\"Primary Language\")\n",
    "plt.ylabel(\"Average SAT Scores\")\n",
    "plt.title(\"Average SAT scores based on primary language\")\n",
    "plt.show()"
   ]
  }
 ],
 "metadata": {
  "kernelspec": {
   "display_name": "Python 3",
   "language": "python",
   "name": "python3"
  },
  "language_info": {
   "codemirror_mode": {
    "name": "ipython",
    "version": 3
   },
   "file_extension": ".py",
   "mimetype": "text/x-python",
   "name": "python",
   "nbconvert_exporter": "python",
   "pygments_lexer": "ipython3",
   "version": "3.7.6"
  }
 },
 "nbformat": 4,
 "nbformat_minor": 4
}
