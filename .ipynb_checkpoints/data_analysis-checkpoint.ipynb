{
 "cells": [
  {
   "cell_type": "markdown",
   "metadata": {},
   "source": [
    "# Basic Data Analysis\n",
    "## fa-23-team-a"
   ]
  },
  {
   "cell_type": "code",
   "execution_count": 90,
   "metadata": {
    "ExecuteTime": {
     "end_time": "2023-10-26T05:15:03.640135Z",
     "start_time": "2023-10-26T05:15:03.637128Z"
    }
   },
   "outputs": [],
   "source": [
    "import pandas as pd\n",
    "import matplotlib.pyplot as plt\n",
    "import numpy as np"
   ]
  },
  {
   "cell_type": "code",
   "execution_count": 91,
   "metadata": {
    "ExecuteTime": {
     "end_time": "2023-10-26T05:15:03.691022Z",
     "start_time": "2023-10-26T05:15:03.644398Z"
    }
   },
   "outputs": [
    {
     "data": {
      "text/html": [
       "<div>\n",
       "<style scoped>\n",
       "    .dataframe tbody tr th:only-of-type {\n",
       "        vertical-align: middle;\n",
       "    }\n",
       "\n",
       "    .dataframe tbody tr th {\n",
       "        vertical-align: top;\n",
       "    }\n",
       "\n",
       "    .dataframe thead th {\n",
       "        text-align: right;\n",
       "    }\n",
       "</style>\n",
       "<table border=\"1\" class=\"dataframe\">\n",
       "  <thead>\n",
       "    <tr style=\"text-align: right;\">\n",
       "      <th></th>\n",
       "      <th>Data Input Year</th>\n",
       "      <th>Student</th>\n",
       "      <th>State</th>\n",
       "      <th>US Region</th>\n",
       "      <th>Country</th>\n",
       "      <th>English Language Primary Language of Country</th>\n",
       "      <th>IPEDS Race Description</th>\n",
       "      <th>Athletic Code 1</th>\n",
       "      <th>Team Gender</th>\n",
       "      <th>Athletic Code Description 1</th>\n",
       "      <th>...</th>\n",
       "      <th>Semester GPI-13th Sem</th>\n",
       "      <th>Semester GPI-14th Sem</th>\n",
       "      <th>Semester GPI-15th Sem</th>\n",
       "      <th>Semester GPI-16th Sem</th>\n",
       "      <th>Semester GPI-17th Sem</th>\n",
       "      <th>Semester GPI-18th Sem</th>\n",
       "      <th>Semester GPI-19th Sem</th>\n",
       "      <th>Semester GPI-20th Sem</th>\n",
       "      <th>Semester GPI-21st Sem</th>\n",
       "      <th>Semester GPI-22nd Sem</th>\n",
       "    </tr>\n",
       "  </thead>\n",
       "  <tbody>\n",
       "    <tr>\n",
       "      <th>0</th>\n",
       "      <td>2022</td>\n",
       "      <td>1</td>\n",
       "      <td>NaN</td>\n",
       "      <td>NaN</td>\n",
       "      <td>Canada</td>\n",
       "      <td>English</td>\n",
       "      <td>Non-Resident Alien</td>\n",
       "      <td>HC</td>\n",
       "      <td>M</td>\n",
       "      <td>MEN'S ICE HOCKEY</td>\n",
       "      <td>...</td>\n",
       "      <td>0.0</td>\n",
       "      <td>0.0</td>\n",
       "      <td>0.0</td>\n",
       "      <td>0.0</td>\n",
       "      <td>0.0</td>\n",
       "      <td>0.0</td>\n",
       "      <td>0.0</td>\n",
       "      <td>0.0</td>\n",
       "      <td>0.0</td>\n",
       "      <td>0.0</td>\n",
       "    </tr>\n",
       "    <tr>\n",
       "      <th>1</th>\n",
       "      <td>2021</td>\n",
       "      <td>2</td>\n",
       "      <td>CT</td>\n",
       "      <td>NaN</td>\n",
       "      <td>NaN</td>\n",
       "      <td>NaN</td>\n",
       "      <td>African American or Black</td>\n",
       "      <td>SC</td>\n",
       "      <td>M</td>\n",
       "      <td>MEN'S SOCCER</td>\n",
       "      <td>...</td>\n",
       "      <td>0.0</td>\n",
       "      <td>0.0</td>\n",
       "      <td>0.0</td>\n",
       "      <td>0.0</td>\n",
       "      <td>0.0</td>\n",
       "      <td>0.0</td>\n",
       "      <td>0.0</td>\n",
       "      <td>0.0</td>\n",
       "      <td>0.0</td>\n",
       "      <td>0.0</td>\n",
       "    </tr>\n",
       "    <tr>\n",
       "      <th>2</th>\n",
       "      <td>2023</td>\n",
       "      <td>3</td>\n",
       "      <td>CA</td>\n",
       "      <td>NaN</td>\n",
       "      <td>NaN</td>\n",
       "      <td>NaN</td>\n",
       "      <td>White</td>\n",
       "      <td>MC</td>\n",
       "      <td>M</td>\n",
       "      <td>MEN'S ROWING</td>\n",
       "      <td>...</td>\n",
       "      <td>0.0</td>\n",
       "      <td>0.0</td>\n",
       "      <td>0.0</td>\n",
       "      <td>0.0</td>\n",
       "      <td>0.0</td>\n",
       "      <td>0.0</td>\n",
       "      <td>0.0</td>\n",
       "      <td>0.0</td>\n",
       "      <td>0.0</td>\n",
       "      <td>0.0</td>\n",
       "    </tr>\n",
       "    <tr>\n",
       "      <th>3</th>\n",
       "      <td>2023</td>\n",
       "      <td>14</td>\n",
       "      <td>NaN</td>\n",
       "      <td>NaN</td>\n",
       "      <td>Italy</td>\n",
       "      <td>Non-English</td>\n",
       "      <td>Non-Resident Alien</td>\n",
       "      <td>SC</td>\n",
       "      <td>M</td>\n",
       "      <td>MEN'S SOCCER</td>\n",
       "      <td>...</td>\n",
       "      <td>0.0</td>\n",
       "      <td>0.0</td>\n",
       "      <td>0.0</td>\n",
       "      <td>0.0</td>\n",
       "      <td>0.0</td>\n",
       "      <td>0.0</td>\n",
       "      <td>0.0</td>\n",
       "      <td>0.0</td>\n",
       "      <td>0.0</td>\n",
       "      <td>0.0</td>\n",
       "    </tr>\n",
       "    <tr>\n",
       "      <th>4</th>\n",
       "      <td>2023</td>\n",
       "      <td>15</td>\n",
       "      <td>NaN</td>\n",
       "      <td>NaN</td>\n",
       "      <td>Germany</td>\n",
       "      <td>Non-English</td>\n",
       "      <td>Non-Resident Alien</td>\n",
       "      <td>MC</td>\n",
       "      <td>M</td>\n",
       "      <td>MEN'S ROWING</td>\n",
       "      <td>...</td>\n",
       "      <td>0.0</td>\n",
       "      <td>0.0</td>\n",
       "      <td>0.0</td>\n",
       "      <td>0.0</td>\n",
       "      <td>0.0</td>\n",
       "      <td>0.0</td>\n",
       "      <td>0.0</td>\n",
       "      <td>0.0</td>\n",
       "      <td>0.0</td>\n",
       "      <td>0.0</td>\n",
       "    </tr>\n",
       "  </tbody>\n",
       "</table>\n",
       "<p>5 rows × 74 columns</p>\n",
       "</div>"
      ],
      "text/plain": [
       "   Data Input Year  Student State  US Region  Country  \\\n",
       "0             2022        1   NaN        NaN   Canada   \n",
       "1             2021        2    CT        NaN      NaN   \n",
       "2             2023        3    CA        NaN      NaN   \n",
       "3             2023       14   NaN        NaN    Italy   \n",
       "4             2023       15   NaN        NaN  Germany   \n",
       "\n",
       "  English Language Primary Language of Country     IPEDS Race Description  \\\n",
       "0                                      English         Non-Resident Alien   \n",
       "1                                          NaN  African American or Black   \n",
       "2                                          NaN                      White   \n",
       "3                                  Non-English         Non-Resident Alien   \n",
       "4                                  Non-English         Non-Resident Alien   \n",
       "\n",
       "  Athletic Code 1 Team Gender Athletic Code Description 1  ...  \\\n",
       "0              HC           M            MEN'S ICE HOCKEY  ...   \n",
       "1              SC           M                MEN'S SOCCER  ...   \n",
       "2              MC           M                MEN'S ROWING  ...   \n",
       "3              SC           M                MEN'S SOCCER  ...   \n",
       "4              MC           M                MEN'S ROWING  ...   \n",
       "\n",
       "  Semester GPI-13th Sem Semester GPI-14th Sem Semester GPI-15th Sem  \\\n",
       "0                   0.0                   0.0                   0.0   \n",
       "1                   0.0                   0.0                   0.0   \n",
       "2                   0.0                   0.0                   0.0   \n",
       "3                   0.0                   0.0                   0.0   \n",
       "4                   0.0                   0.0                   0.0   \n",
       "\n",
       "  Semester GPI-16th Sem Semester GPI-17th Sem  Semester GPI-18th Sem  \\\n",
       "0                   0.0                   0.0                    0.0   \n",
       "1                   0.0                   0.0                    0.0   \n",
       "2                   0.0                   0.0                    0.0   \n",
       "3                   0.0                   0.0                    0.0   \n",
       "4                   0.0                   0.0                    0.0   \n",
       "\n",
       "   Semester GPI-19th Sem  Semester GPI-20th Sem  Semester GPI-21st Sem  \\\n",
       "0                    0.0                    0.0                    0.0   \n",
       "1                    0.0                    0.0                    0.0   \n",
       "2                    0.0                    0.0                    0.0   \n",
       "3                    0.0                    0.0                    0.0   \n",
       "4                    0.0                    0.0                    0.0   \n",
       "\n",
       "   Semester GPI-22nd Sem  \n",
       "0                    0.0  \n",
       "1                    0.0  \n",
       "2                    0.0  \n",
       "3                    0.0  \n",
       "4                    0.0  \n",
       "\n",
       "[5 rows x 74 columns]"
      ]
     },
     "execution_count": 91,
     "metadata": {},
     "output_type": "execute_result"
    }
   ],
   "source": [
    "df = pd.read_csv(\"bu_athletics_data.csv\")\n",
    "df.head()"
   ]
  },
  {
   "cell_type": "markdown",
   "metadata": {},
   "source": [
    "### Range of accepted highschool GPA"
   ]
  },
  {
   "cell_type": "code",
   "execution_count": 92,
   "metadata": {
    "ExecuteTime": {
     "end_time": "2023-10-26T05:15:03.698071Z",
     "start_time": "2023-10-26T05:15:03.693548Z"
    }
   },
   "outputs": [
    {
     "name": "stdout",
     "output_type": "stream",
     "text": [
      "Maximum highschool GPA: 4.3\n",
      "Minimum highschool GPA: 2.2\n"
     ]
    }
   ],
   "source": [
    "max_hs_gpa = df[\"HSGPA\"].max()\n",
    "min_hs_gpa = df[\"HSGPA\"].min()\n",
    "print(\"Maximum highschool GPA:\", max_hs_gpa)\n",
    "print(\"Minimum highschool GPA:\", min_hs_gpa)"
   ]
  },
  {
   "cell_type": "code",
   "execution_count": 93,
   "metadata": {
    "ExecuteTime": {
     "end_time": "2023-10-26T05:15:04.063859Z",
     "start_time": "2023-10-26T05:15:03.700508Z"
    }
   },
   "outputs": [
    {
     "data": {
      "image/png": "[encoded data removed]",
      "text/plain": [
       "<Figure size 432x288 with 1 Axes>"
      ]
     },
     "metadata": {
      "needs_background": "light"
     },
     "output_type": "display_data"
    }
   ],
   "source": [
    "hsgpa_no_na = df[\"HSGPA\"].dropna()\n",
    "plt.hist(hsgpa_no_na, bins=10)\n",
    "plt.title(\"Histogram of highschool GPAs\")\n",
    "plt.ylabel(\"Frequency\")\n",
    "plt.show()"
   ]
  },
  {
   "cell_type": "markdown",
   "metadata": {},
   "source": [
    "### Range of accepted SAT/ACT scores"
   ]
  },
  {
   "cell_type": "code",
   "execution_count": 94,
   "metadata": {
    "ExecuteTime": {
     "end_time": "2023-10-26T05:15:04.070271Z",
     "start_time": "2023-10-26T05:15:04.066055Z"
    }
   },
   "outputs": [
    {
     "name": "stdout",
     "output_type": "stream",
     "text": [
      "Maximum SAT score: 1600.0\n",
      "Minimum SAT score: 950.0\n"
     ]
    }
   ],
   "source": [
    "min_sat = df[\"SATCFORAI\"].min()\n",
    "max_sat = df[\"SATCFORAI\"].max()\n",
    "print(\"Maximum SAT score:\", max_sat)\n",
    "print(\"Minimum SAT score:\", min_sat)"
   ]
  },
  {
   "cell_type": "code",
   "execution_count": 95,
   "metadata": {
    "ExecuteTime": {
     "end_time": "2023-10-26T05:15:04.244015Z",
     "start_time": "2023-10-26T05:15:04.072635Z"
    }
   },
   "outputs": [
    {
     "data": {
      "image/png": "[encoded data removed]",
      "text/plain": [
       "<Figure size 432x288 with 1 Axes>"
      ]
     },
     "metadata": {
      "needs_background": "light"
     },
     "output_type": "display_data"
    }
   ],
   "source": [
    "sat_no_na = df[\"SATCFORAI\"].dropna()\n",
    "plt.hist(sat_no_na, bins=9)\n",
    "plt.title(\"Histogram of SAT scores\")\n",
    "plt.ylabel(\"Frequency\")\n",
    "plt.show()"
   ]
  },
  {
   "cell_type": "markdown",
   "metadata": {},
   "source": [
    "### Student composition"
   ]
  },
  {
   "cell_type": "code",
   "execution_count": 96,
   "metadata": {
    "ExecuteTime": {
     "end_time": "2023-10-26T05:15:04.361363Z",
     "start_time": "2023-10-26T05:15:04.245638Z"
    }
   },
   "outputs": [
    {
     "data": {
      "image/png": "[encoded data removed]",
      "text/plain": [
       "<Figure size 432x288 with 1 Axes>"
      ]
     },
     "metadata": {
      "needs_background": "light"
     },
     "output_type": "display_data"
    }
   ],
   "source": [
    "num_intl = df[\"State\"].isna().sum()\n",
    "num_domestic = df.shape[0] - num_intl\n",
    "comp = [\"International\", \"Domestic\"]\n",
    "comp_percent = [num_intl / (num_intl + num_domestic), num_domestic / (num_intl + num_domestic)]\n",
    "plt.bar(comp, comp_percent, width=0.8)\n",
    "plt.xlabel(\"Student Type\")\n",
    "plt.ylabel(\"Percentage\")\n",
    "plt.title(\"Student Composition\")\n",
    "plt.show()"
   ]
  },
  {
   "cell_type": "markdown",
   "metadata": {},
   "source": [
    "### Effect of English being the primary language on highschool/SAT/ACT performance"
   ]
  },
  {
   "cell_type": "code",
   "execution_count": 97,
   "metadata": {
    "ExecuteTime": {
     "end_time": "2023-10-26T05:15:04.469870Z",
     "start_time": "2023-10-26T05:15:04.362877Z"
    }
   },
   "outputs": [
    {
     "data": {
      "image/png": "[encoded data removed]",
      "text/plain": [
       "<Figure size 432x288 with 1 Axes>"
      ]
     },
     "metadata": {
      "needs_background": "light"
     },
     "output_type": "display_data"
    }
   ],
   "source": [
    "num_english = df[(df[\"State\"].notna()) | \n",
    "                   (df[\"English Language Primary Language of Country\"] == 'English')].shape[0]\n",
    "num_non_english = df[df[\"English Language Primary Language of Country\"] == 'Non-English'].shape[0]\n",
    "primary_lang = [\"English\", \"Non-English\"]\n",
    "count = [num_english, num_non_english]\n",
    "plt.bar(primary_lang, count, width=0.8)\n",
    "plt.xlabel(\"Primary Language\")\n",
    "plt.ylabel(\"Number of Students\")\n",
    "plt.title(\"Number of students based on primary language\")\n",
    "plt.show()"
   ]
  },
  {
   "cell_type": "code",
   "execution_count": 98,
   "metadata": {
    "ExecuteTime": {
     "end_time": "2023-10-26T05:15:04.581746Z",
     "start_time": "2023-10-26T05:15:04.471931Z"
    }
   },
   "outputs": [
    {
     "data": {
      "image/png": "[encoded data removed]",
      "text/plain": [
       "<Figure size 432x288 with 1 Axes>"
      ]
     },
     "metadata": {
      "needs_background": "light"
     },
     "output_type": "display_data"
    }
   ],
   "source": [
    "hsgpa_english = df[(df[\"State\"].notna()) | \n",
    "                   (df[\"English Language Primary Language of Country\"] == 'English')][\"HSGPA\"].mean()\n",
    "hsgpa_non_english = df[df[\"English Language Primary Language of Country\"] == 'Non-English'][\"HSGPA\"].mean()\n",
    "primary_lang = [\"English\", \"Non-English\"]\n",
    "performance = [hsgpa_english, hsgpa_non_english]\n",
    "plt.bar(primary_lang, performance, width=0.8)\n",
    "plt.xlabel(\"Primary Language\")\n",
    "plt.ylabel(\"Average Highschool GPA\")\n",
    "plt.title(\"Average highschool GPA based on primary language\")\n",
    "plt.show()"
   ]
  },
  {
   "cell_type": "code",
   "execution_count": 104,
   "metadata": {
    "ExecuteTime": {
     "end_time": "2023-10-26T05:15:20.046418Z",
     "start_time": "2023-10-26T05:15:19.939509Z"
    }
   },
   "outputs": [
    {
     "data": {
      "image/png": "[encoded data removed]",
      "text/plain": [
       "<Figure size 432x288 with 1 Axes>"
      ]
     },
     "metadata": {
      "needs_background": "light"
     },
     "output_type": "display_data"
    }
   ],
   "source": [
    "sat_english = df[(df[\"State\"].notna()) | \n",
    "                   (df[\"English Language Primary Language of Country\"] == 'English')][\"SATCFORAI\"].mean()\n",
    "sat_non_english = df[df[\"English Language Primary Language of Country\"] == 'Non-English'][\"SATCFORAI\"].mean()\n",
    "primary_lang = [\"English\", \"Non-English\"]\n",
    "performance = [sat_english, sat_non_english]\n",
    "plt.bar(primary_lang, performance, width=0.8)\n",
    "plt.xlabel(\"Primary Language\")\n",
    "plt.ylabel(\"Average SAT Scores\")\n",
    "plt.title(\"Average SAT scores based on primary language\")\n",
    "plt.show()"
   ]
  },
  {
   "cell_type": "markdown",
   "metadata": {},
   "source": [
    "### Range of BU GPA for athletes"
   ]
  },
  {
   "cell_type": "code",
   "execution_count": 109,
   "metadata": {
    "ExecuteTime": {
     "end_time": "2023-10-26T05:25:51.816738Z",
     "start_time": "2023-10-26T05:25:51.810819Z"
    }
   },
   "outputs": [
    {
     "name": "stdout",
     "output_type": "stream",
     "text": [
      "Maximum SAT score: 4.0\n",
      "Minimum SAT score: 1.1\n"
     ]
    }
   ],
   "source": [
    "min_bugpa = df[df[\"Last Cumulative BU GPA\"] != 0][\"Last Cumulative BU GPA\"].min()\n",
    "max_bugpa = df[\"Last Cumulative BU GPA\"].max()\n",
    "print(\"Maximum SAT score:\", max_bugpa)\n",
    "print(\"Minimum SAT score:\", min_bugpa)"
   ]
  },
  {
   "cell_type": "markdown",
   "metadata": {},
   "source": [
    "### Performance of similar highschool students in BU"
   ]
  },
  {
   "cell_type": "code",
   "execution_count": 114,
   "metadata": {
    "ExecuteTime": {
     "end_time": "2023-10-26T05:45:32.407742Z",
     "start_time": "2023-10-26T05:45:32.294205Z"
    }
   },
   "outputs": [
    {
     "data": {
      "image/png": "[encoded data removed]",
      "text/plain": [
       "<Figure size 432x288 with 1 Axes>"
      ]
     },
     "metadata": {
      "needs_background": "light"
     },
     "output_type": "display_data"
    }
   ],
   "source": [
    "satact = df[(df[\"SATCFORAI\"].notna()) | (df[\"ACTUSE\"].notna())][\"Last Cumulative BU GPA\"].mean()\n",
    "no_satact = df[(df[\"SATCFORAI\"].isna()) & (df[\"ACTUSE\"].isna())][\"Last Cumulative BU GPA\"].mean()\n",
    "status = [\"Submitted SAT/ACT\", \"Not submitted SAT/ACT\"]\n",
    "performance = [satact, no_satact]\n",
    "plt.bar(status, performance, width=0.8)\n",
    "plt.ylabel(\"Last Cumulative BU GPA\")\n",
    "plt.title(\"Performance of similar highschool students at BU\")\n",
    "plt.show()"
   ]
  },
  {
   "cell_type": "code",
   "execution_count": 191,
   "metadata": {
    "ExecuteTime": {
     "end_time": "2023-10-27T17:10:31.101323Z",
     "start_time": "2023-10-27T17:10:30.983323Z"
    }
   },
   "outputs": [
    {
     "data": {
      "image/png": "[encoded data removed]",
      "text/plain": [
       "<Figure size 432x288 with 1 Axes>"
      ]
     },
     "metadata": {
      "needs_background": "light"
     },
     "output_type": "display_data"
    }
   ],
   "source": [
    "hsgpa_bins = np.array([0, 2.5, 3.0, 3.5, 4.0])\n",
    "bugpa = [df[(df[\"HSGPA\"] >= hsgpa_bins[i]) \n",
    "            & (df[\"HSGPA\"] <= hsgpa_bins[i+1])][\"Last Cumulative BU GPA\"].dropna().mean() \n",
    "         for i in range(len(hsgpa_bins) - 1)]\n",
    "plt.bar([\"< 2.5\", \"2.5-3.0\", \"3.0-3.5\",\"3.5-4.0\"], bugpa, edgecolor='white', align='center')\n",
    "plt.xlabel(\"Highschool GPA\")\n",
    "plt.ylabel(\"BU GPA\")\n",
    "plt.title(\"Highschool GPA vs BU GPA\")\n",
    "plt.show()"
   ]
  },
  {
   "cell_type": "markdown",
   "metadata": {
    "ExecuteTime": {
     "end_time": "2023-10-26T19:49:07.698359Z",
     "start_time": "2023-10-26T19:49:07.667160Z"
    }
   },
   "source": [
    "### Comparing performance of students across states"
   ]
  },
  {
   "cell_type": "code",
   "execution_count": 147,
   "metadata": {
    "ExecuteTime": {
     "end_time": "2023-10-26T20:19:53.355134Z",
     "start_time": "2023-10-26T20:19:53.087869Z"
    }
   },
   "outputs": [
    {
     "data": {
      "image/png": "[encoded data removed]",
      "text/plain": [
       "<Figure size 432x288 with 1 Axes>"
      ]
     },
     "metadata": {
      "needs_background": "light"
     },
     "output_type": "display_data"
    },
    {
     "data": {
      "image/png": "[encoded data removed]",
      "text/plain": [
       "<Figure size 432x288 with 1 Axes>"
      ]
     },
     "metadata": {
      "needs_background": "light"
     },
     "output_type": "display_data"
    }
   ],
   "source": [
    "ne_states = [\"PA\", \"DE\", \"MD\", \"MA\", \"VT\", \"NJ\", \"ME\", \"CT\", \"NY\", \"NH\", \"RI\"]\n",
    "sw_states = [\"TX\", \"AZ\", \"NM\", \"OK\"]\n",
    "mw_states = [\"IL\", \"IN\", \"IA\", \"KS\", \"MI\", \"MN\", \"MO\", \"NE\", \"ND\", \"OH\", \"SD\", \"WI\"]\n",
    "w_states = [\"AK\", \"CA\", \"CO\", \"HI\", \"ID\", \"MT\", \"NV\", \"OR\", \"UT\", \"WA\", \"WY\"]\n",
    "s_states = [\"AR\", \"KY\", \"VA\", \"FL\", \"NC\", \"LA\", \"WV\", \"SC\", \"TN\", \"AL\", \"MS\", \"GA\"]\n",
    "\n",
    "ne_sat = df[df[\"State\"].isin(ne_states)][\"SATCFORAI\"].dropna().mean()\n",
    "sw_sat = df[df[\"State\"].isin(sw_states)][\"SATCFORAI\"].dropna().mean()\n",
    "mw_sat = df[df[\"State\"].isin(mw_states)][\"SATCFORAI\"].dropna().mean()\n",
    "w_sat = df[df[\"State\"].isin(w_states)][\"SATCFORAI\"].dropna().mean()\n",
    "s_sat = df[df[\"State\"].isin(s_states)][\"SATCFORAI\"].dropna().mean()\n",
    "\n",
    "ne_bugpa = df[df[\"State\"].isin(ne_states)][\"Last Cumulative BU GPA\"].dropna().mean()\n",
    "sw_bugpa = df[df[\"State\"].isin(sw_states)][\"Last Cumulative BU GPA\"].dropna().mean()\n",
    "mw_bugpa = df[df[\"State\"].isin(mw_states)][\"Last Cumulative BU GPA\"].dropna().mean()\n",
    "w_bugpa = df[df[\"State\"].isin(w_states)][\"Last Cumulative BU GPA\"].dropna().mean()\n",
    "s_bugpa = df[df[\"State\"].isin(s_states)][\"Last Cumulative BU GPA\"].dropna().mean()\n",
    "\n",
    "region = [\"NE\", \"SW\", \"MW\", \"West\", \"South\"]\n",
    "region_sat = [ne_sat, sw_sat, mw_sat, w_sat, s_sat]\n",
    "region_gpa = [ne_bugpa, sw_bugpa, mw_bugpa, w_bugpa, s_bugpa]\n",
    "\n",
    "plt.bar(region, region_sat, width=0.8)\n",
    "plt.ylabel(\"SAT score\")\n",
    "plt.title(\"SAT Scores by Region\")\n",
    "plt.show()\n",
    "\n",
    "plt.bar(region, region_gpa, width=0.8)\n",
    "plt.ylabel(\"GPA\")\n",
    "plt.title(\"GPA by Region\")\n",
    "plt.show()"
   ]
  },
  {
   "cell_type": "markdown",
   "metadata": {
    "ExecuteTime": {
     "end_time": "2023-10-26T20:11:52.806279Z",
     "start_time": "2023-10-26T20:11:52.770536Z"
    }
   },
   "source": [
    "### Comparing students gpa throughout college"
   ]
  },
  {
   "cell_type": "code",
   "execution_count": 156,
   "metadata": {
    "ExecuteTime": {
     "end_time": "2023-10-26T20:34:11.814255Z",
     "start_time": "2023-10-26T20:34:11.663066Z"
    }
   },
   "outputs": [
    {
     "data": {
      "image/png": "[encoded data removed]",
      "text/plain": [
       "<Figure size 432x288 with 1 Axes>"
      ]
     },
     "metadata": {
      "needs_background": "light"
     },
     "output_type": "display_data"
    }
   ],
   "source": [
    "sems = [\"1st Sem\", \"2nd Sem\", \"3rd Sem\", \"4th Sem\", \"5th Sem\", \"6th Sem\", \"7th Sem\", \"8th Sem\"]\n",
    "sems_number = [sems[i][:3] for i in range(len(sems))]\n",
    "gpa_sem = [df[\"Cumulative GPA-\" + sems[i-1]].dropna().mean() for i in range(1, 9)]\n",
    "\n",
    "plt.plot(sems_number, gpa_sem, color=\"red\")\n",
    "plt.ylabel(\"GPA\")\n",
    "plt.xlabel(\"Semester\")\n",
    "plt.title(\"GPA by Semester\")\n",
    "plt.show()"
   ]
  },
  {
   "cell_type": "markdown",
   "metadata": {},
   "source": [
    "### College majors"
   ]
  },
  {
   "cell_type": "code",
   "execution_count": 162,
   "metadata": {
    "ExecuteTime": {
     "end_time": "2023-10-26T20:42:48.595769Z",
     "start_time": "2023-10-26T20:42:48.590543Z"
    }
   },
   "outputs": [
    {
     "name": "stdout",
     "output_type": "stream",
     "text": [
      "% of athletes that change majors = 0.2336\n",
      "% of athletes that remain in the same major = 0.7664\n"
     ]
    }
   ],
   "source": [
    "num_change = df[df[\"First Major (HEGIS) Description\"] != df[\"Last Major (HEGIS) Description\"]].shape[0]\n",
    "p_num_change = num_change / len(df)\n",
    "\n",
    "print(\"% of athletes that change majors =\", np.around(p_num_change, 4))\n",
    "print(\"% of athletes that remain in the same major =\", np.around(1 - p_num_change, 4))"
   ]
  }
 ],
 "metadata": {
  "kernelspec": {
   "display_name": "Python 3",
   "language": "python",
   "name": "python3"
  },
  "language_info": {
   "codemirror_mode": {
    "name": "ipython",
    "version": 3
   },
   "file_extension": ".py",
   "mimetype": "text/x-python",
   "name": "python",
   "nbconvert_exporter": "python",
   "pygments_lexer": "ipython3",
   "version": "3.7.6"
  }
 },
 "nbformat": 4,
 "nbformat_minor": 4
}
