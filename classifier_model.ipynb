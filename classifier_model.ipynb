{
 "cells": [
  {
   "cell_type": "code",
   "execution_count": 46,
   "id": "051597ae",
   "metadata": {
    "ExecuteTime": {
     "end_time": "2023-11-21T00:10:56.669680Z",
     "start_time": "2023-11-21T00:10:56.601412Z"
    }
   },
   "outputs": [],
   "source": [
    "import pandas as pd\n",
    "import numpy as np\n",
    "import matplotlib.pyplot as plt\n",
    "import string\n",
    "import scipy.sparse\n",
    "import pickle\n",
    "import requests\n",
    "import seaborn as sns\n",
    "import nltk\n",
    "import lightgbm as lgb\n",
    "from nltk.tokenize import sent_tokenize, word_tokenize\n",
    "from datetime import datetime\n",
    "from sklearn.compose import ColumnTransformer\n",
    "from sklearn.preprocessing import StandardScaler, OneHotEncoder\n",
    "from sklearn.pipeline import Pipeline\n",
    "from sklearn.feature_extraction.text import TfidfVectorizer\n",
    "from tqdm import tqdm\n",
    "from sklearn.svm import SVC\n",
    "from sklearn.pipeline import make_pipeline\n",
    "from sklearn.decomposition import PCA, TruncatedSVD\n",
    "from sklearn.pipeline import make_pipeline\n",
    "from sklearn.neighbors import KNeighborsClassifier\n",
    "from sklearn.ensemble import BaggingClassifier\n",
    "from sklearn.naive_bayes import GaussianNB\n",
    "from sklearn.tree import DecisionTreeClassifier\n",
    "from sklearn.ensemble import RandomForestClassifier\n",
    "from sklearn.model_selection import GridSearchCV, train_test_split\n",
    "from sklearn.metrics import accuracy_score, confusion_matrix, mean_squared_error\n",
    "from sklearn.linear_model import LogisticRegression\n",
    "from sklearn.utils import resample\n",
    "from nltk.tokenize import word_tokenize, sent_tokenize\n",
    "from sklearn.utils import resample"
   ]
  },
  {
   "cell_type": "code",
   "execution_count": 47,
   "id": "fbd2bea1",
   "metadata": {
    "ExecuteTime": {
     "end_time": "2023-11-21T00:10:58.083748Z",
     "start_time": "2023-11-21T00:10:58.003893Z"
    }
   },
   "outputs": [
    {
     "name": "stdout",
     "output_type": "stream",
     "text": [
      "993 rows 74 columns\n",
      "Index(['Data Input Year', 'Student', 'State', 'US Region', 'Country',\n",
      "       'English Language Primary Language of Country',\n",
      "       'IPEDS Race Description', 'Athletic Code 1', 'Team Gender',\n",
      "       'Athletic Code Description 1', 'HYR', 'Entering Term', 'Yr', 'FCLASS',\n",
      "       'RetentionClass', 'ACADINDEX', 'SATCFORAI', 'ACTUSE', 'SATCUSE',\n",
      "       'SATVUSE', 'satm', 'satwr', 'HSGPA', 'FIRSTCOLLEGE', 'FIRSTMAJOR',\n",
      "       'First Major (HEGIS) Description', 'LASTCOLLEGE', 'LASTMAJOR',\n",
      "       'Last Major (HEGIS) Description', 'Last Cumulative BU GPA',\n",
      "       'Cumulative GPA-1st Sem', 'Cumulative GPA-2nd Sem',\n",
      "       'Cumulative GPA-3rd Sem', 'Cumulative GPA-4th Sem',\n",
      "       'Cumulative GPA-5th Sem', 'Cumulative GPA-6th Sem',\n",
      "       'Cumulative GPA-7th Sem', 'Cumulative GPA-8th Sem',\n",
      "       'Cumulative GPA-9th Sem', 'Cumulative GPA-10th Sem',\n",
      "       'Cumulative GPA-11th Sem', 'Cumulative GPA-12th Sem',\n",
      "       'Cumulative GPA-13th Sem', 'Cumulative GPA-14th Sem',\n",
      "       'Cumulative GPA-15th Sem', 'Cumulative GPA-16th Sem',\n",
      "       'Cumulative GPA-17th Sem', 'Cumulative GPA-18th Sem',\n",
      "       'Cumulative GPA-19th Sem', 'Cumulative GPA-20th Sem',\n",
      "       'Cumulative GPA-21st Sem', 'Cumulative GPA-22nd Sem',\n",
      "       'Semester GPI-1st Sem', 'Semester GPI-2nd Sem', 'Semester GPI-3rd Sem',\n",
      "       'Semester GPI-4th Sem', 'Semester GPI-5th Sem', 'Semester GPI-6th Sem',\n",
      "       'Semester GPI-7th Sem', 'Semester GPI-8th Sem', 'Semester GPI-9th Sem',\n",
      "       'Semester GPI-10th Sem', 'Semester GPI-11th Sem',\n",
      "       'Semester GPI-12th Sem', 'Semester GPI-13th Sem',\n",
      "       'Semester GPI-14th Sem', 'Semester GPI-15th Sem',\n",
      "       'Semester GPI-16th Sem', 'Semester GPI-17th Sem',\n",
      "       'Semester GPI-18th Sem', 'Semester GPI-19th Sem',\n",
      "       'Semester GPI-20th Sem', 'Semester GPI-21st Sem',\n",
      "       'Semester GPI-22nd Sem'],\n",
      "      dtype='object')\n"
     ]
    }
   ],
   "source": [
    "ts = pd.read_csv(\"bu_athletics_data.csv\")\n",
    "print(ts.shape[0], 'rows', ts.shape[1], 'columns')\n",
    "print(ts.columns)"
   ]
  },
  {
   "cell_type": "code",
   "execution_count": 48,
   "id": "a8fabdfd",
   "metadata": {
    "ExecuteTime": {
     "end_time": "2023-11-21T00:11:00.645916Z",
     "start_time": "2023-11-21T00:11:00.630315Z"
    }
   },
   "outputs": [
    {
     "data": {
      "text/plain": [
       "Index(['Athletic Code Description 1', 'Rank', 'Win%'], dtype='object')"
      ]
     },
     "execution_count": 48,
     "metadata": {},
     "output_type": "execute_result"
    }
   ],
   "source": [
    "ranks = pd.read_csv('rankings.csv')\n",
    "ranks.columns"
   ]
  },
  {
   "cell_type": "code",
   "execution_count": 49,
   "id": "ec6a450a",
   "metadata": {
    "ExecuteTime": {
     "end_time": "2023-11-21T00:11:03.269953Z",
     "start_time": "2023-11-21T00:11:03.237029Z"
    }
   },
   "outputs": [
    {
     "data": {
      "text/html": [
       "<div>\n",
       "<style scoped>\n",
       "    .dataframe tbody tr th:only-of-type {\n",
       "        vertical-align: middle;\n",
       "    }\n",
       "\n",
       "    .dataframe tbody tr th {\n",
       "        vertical-align: top;\n",
       "    }\n",
       "\n",
       "    .dataframe thead th {\n",
       "        text-align: right;\n",
       "    }\n",
       "</style>\n",
       "<table border=\"1\" class=\"dataframe\">\n",
       "  <thead>\n",
       "    <tr style=\"text-align: right;\">\n",
       "      <th></th>\n",
       "      <th>Data Input Year</th>\n",
       "      <th>Student</th>\n",
       "      <th>State</th>\n",
       "      <th>US Region</th>\n",
       "      <th>Country</th>\n",
       "      <th>English Language Primary Language of Country</th>\n",
       "      <th>IPEDS Race Description</th>\n",
       "      <th>Athletic Code 1</th>\n",
       "      <th>Team Gender</th>\n",
       "      <th>Athletic Code Description 1</th>\n",
       "      <th>...</th>\n",
       "      <th>Semester GPI-13th Sem</th>\n",
       "      <th>Semester GPI-14th Sem</th>\n",
       "      <th>Semester GPI-15th Sem</th>\n",
       "      <th>Semester GPI-16th Sem</th>\n",
       "      <th>Semester GPI-17th Sem</th>\n",
       "      <th>Semester GPI-18th Sem</th>\n",
       "      <th>Semester GPI-19th Sem</th>\n",
       "      <th>Semester GPI-20th Sem</th>\n",
       "      <th>Semester GPI-21st Sem</th>\n",
       "      <th>Semester GPI-22nd Sem</th>\n",
       "    </tr>\n",
       "  </thead>\n",
       "  <tbody>\n",
       "    <tr>\n",
       "      <th>0</th>\n",
       "      <td>2022</td>\n",
       "      <td>1</td>\n",
       "      <td>NaN</td>\n",
       "      <td>NaN</td>\n",
       "      <td>Canada</td>\n",
       "      <td>English</td>\n",
       "      <td>Non-Resident Alien</td>\n",
       "      <td>HC</td>\n",
       "      <td>M</td>\n",
       "      <td>MEN'S ICE HOCKEY</td>\n",
       "      <td>...</td>\n",
       "      <td>0.0</td>\n",
       "      <td>0.0</td>\n",
       "      <td>0.0</td>\n",
       "      <td>0.0</td>\n",
       "      <td>0.0</td>\n",
       "      <td>0.0</td>\n",
       "      <td>0.0</td>\n",
       "      <td>0.0</td>\n",
       "      <td>0.0</td>\n",
       "      <td>0.0</td>\n",
       "    </tr>\n",
       "    <tr>\n",
       "      <th>1</th>\n",
       "      <td>2021</td>\n",
       "      <td>2</td>\n",
       "      <td>CT</td>\n",
       "      <td>NaN</td>\n",
       "      <td>NaN</td>\n",
       "      <td>NaN</td>\n",
       "      <td>African American or Black</td>\n",
       "      <td>SC</td>\n",
       "      <td>M</td>\n",
       "      <td>MEN'S SOCCER</td>\n",
       "      <td>...</td>\n",
       "      <td>0.0</td>\n",
       "      <td>0.0</td>\n",
       "      <td>0.0</td>\n",
       "      <td>0.0</td>\n",
       "      <td>0.0</td>\n",
       "      <td>0.0</td>\n",
       "      <td>0.0</td>\n",
       "      <td>0.0</td>\n",
       "      <td>0.0</td>\n",
       "      <td>0.0</td>\n",
       "    </tr>\n",
       "    <tr>\n",
       "      <th>2</th>\n",
       "      <td>2023</td>\n",
       "      <td>3</td>\n",
       "      <td>CA</td>\n",
       "      <td>NaN</td>\n",
       "      <td>NaN</td>\n",
       "      <td>NaN</td>\n",
       "      <td>White</td>\n",
       "      <td>MC</td>\n",
       "      <td>M</td>\n",
       "      <td>MEN'S ROWING</td>\n",
       "      <td>...</td>\n",
       "      <td>0.0</td>\n",
       "      <td>0.0</td>\n",
       "      <td>0.0</td>\n",
       "      <td>0.0</td>\n",
       "      <td>0.0</td>\n",
       "      <td>0.0</td>\n",
       "      <td>0.0</td>\n",
       "      <td>0.0</td>\n",
       "      <td>0.0</td>\n",
       "      <td>0.0</td>\n",
       "    </tr>\n",
       "    <tr>\n",
       "      <th>3</th>\n",
       "      <td>2023</td>\n",
       "      <td>14</td>\n",
       "      <td>NaN</td>\n",
       "      <td>NaN</td>\n",
       "      <td>Italy</td>\n",
       "      <td>Non-English</td>\n",
       "      <td>Non-Resident Alien</td>\n",
       "      <td>SC</td>\n",
       "      <td>M</td>\n",
       "      <td>MEN'S SOCCER</td>\n",
       "      <td>...</td>\n",
       "      <td>0.0</td>\n",
       "      <td>0.0</td>\n",
       "      <td>0.0</td>\n",
       "      <td>0.0</td>\n",
       "      <td>0.0</td>\n",
       "      <td>0.0</td>\n",
       "      <td>0.0</td>\n",
       "      <td>0.0</td>\n",
       "      <td>0.0</td>\n",
       "      <td>0.0</td>\n",
       "    </tr>\n",
       "    <tr>\n",
       "      <th>4</th>\n",
       "      <td>2023</td>\n",
       "      <td>15</td>\n",
       "      <td>NaN</td>\n",
       "      <td>NaN</td>\n",
       "      <td>Germany</td>\n",
       "      <td>Non-English</td>\n",
       "      <td>Non-Resident Alien</td>\n",
       "      <td>MC</td>\n",
       "      <td>M</td>\n",
       "      <td>MEN'S ROWING</td>\n",
       "      <td>...</td>\n",
       "      <td>0.0</td>\n",
       "      <td>0.0</td>\n",
       "      <td>0.0</td>\n",
       "      <td>0.0</td>\n",
       "      <td>0.0</td>\n",
       "      <td>0.0</td>\n",
       "      <td>0.0</td>\n",
       "      <td>0.0</td>\n",
       "      <td>0.0</td>\n",
       "      <td>0.0</td>\n",
       "    </tr>\n",
       "  </tbody>\n",
       "</table>\n",
       "<p>5 rows × 74 columns</p>\n",
       "</div>"
      ],
      "text/plain": [
       "   Data Input Year  Student State  US Region  Country  \\\n",
       "0             2022        1   NaN        NaN   Canada   \n",
       "1             2021        2    CT        NaN      NaN   \n",
       "2             2023        3    CA        NaN      NaN   \n",
       "3             2023       14   NaN        NaN    Italy   \n",
       "4             2023       15   NaN        NaN  Germany   \n",
       "\n",
       "  English Language Primary Language of Country     IPEDS Race Description  \\\n",
       "0                                      English         Non-Resident Alien   \n",
       "1                                          NaN  African American or Black   \n",
       "2                                          NaN                      White   \n",
       "3                                  Non-English         Non-Resident Alien   \n",
       "4                                  Non-English         Non-Resident Alien   \n",
       "\n",
       "  Athletic Code 1 Team Gender Athletic Code Description 1  ...  \\\n",
       "0              HC           M            MEN'S ICE HOCKEY  ...   \n",
       "1              SC           M                MEN'S SOCCER  ...   \n",
       "2              MC           M                MEN'S ROWING  ...   \n",
       "3              SC           M                MEN'S SOCCER  ...   \n",
       "4              MC           M                MEN'S ROWING  ...   \n",
       "\n",
       "  Semester GPI-13th Sem Semester GPI-14th Sem Semester GPI-15th Sem  \\\n",
       "0                   0.0                   0.0                   0.0   \n",
       "1                   0.0                   0.0                   0.0   \n",
       "2                   0.0                   0.0                   0.0   \n",
       "3                   0.0                   0.0                   0.0   \n",
       "4                   0.0                   0.0                   0.0   \n",
       "\n",
       "  Semester GPI-16th Sem Semester GPI-17th Sem  Semester GPI-18th Sem  \\\n",
       "0                   0.0                   0.0                    0.0   \n",
       "1                   0.0                   0.0                    0.0   \n",
       "2                   0.0                   0.0                    0.0   \n",
       "3                   0.0                   0.0                    0.0   \n",
       "4                   0.0                   0.0                    0.0   \n",
       "\n",
       "   Semester GPI-19th Sem  Semester GPI-20th Sem  Semester GPI-21st Sem  \\\n",
       "0                    0.0                    0.0                    0.0   \n",
       "1                    0.0                    0.0                    0.0   \n",
       "2                    0.0                    0.0                    0.0   \n",
       "3                    0.0                    0.0                    0.0   \n",
       "4                    0.0                    0.0                    0.0   \n",
       "\n",
       "   Semester GPI-22nd Sem  \n",
       "0                    0.0  \n",
       "1                    0.0  \n",
       "2                    0.0  \n",
       "3                    0.0  \n",
       "4                    0.0  \n",
       "\n",
       "[5 rows x 74 columns]"
      ]
     },
     "execution_count": 49,
     "metadata": {},
     "output_type": "execute_result"
    }
   ],
   "source": [
    "ts.head()"
   ]
  },
  {
   "cell_type": "markdown",
   "id": "d41b54a0",
   "metadata": {},
   "source": [
    "### Data Processing"
   ]
  },
  {
   "cell_type": "code",
   "execution_count": 50,
   "id": "f9a55d81",
   "metadata": {
    "ExecuteTime": {
     "end_time": "2023-11-21T00:11:05.852342Z",
     "start_time": "2023-11-21T00:11:05.832932Z"
    }
   },
   "outputs": [],
   "source": [
    "ts['GPA>3.5'] = ts['Last Cumulative BU GPA'] >= 3.5\n",
    "ts['GPA>3.5'] = ts['GPA>3.5'].astype(int)\n",
    "# ts.drop(columns=['US Region'], inplace=True)\n",
    "ts['English Language Primary Language of Country'].fillna('English', inplace=True)\n",
    "ts['Country'].fillna('USA', inplace=True)\n",
    "ts['Team Gender'].replace(to_replace=['M', 'W'], value=[1, 0], inplace=True)\n",
    "ts['ACADINDEX'].fillna(ts['ACADINDEX'].mean(), inplace=True)\n",
    "ts['SATCFORAI'].fillna(ts['SATCFORAI'].mean(), inplace=True)\n",
    "ts['ChangedMajor'] = ts['FIRSTMAJOR'] != ts['LASTMAJOR']\n",
    "ts['ChangedMajor'] = ts['ChangedMajor'].astype(int)\n",
    "ts['HSGPA'].fillna(ts['HSGPA'].mean(), inplace=True)\n",
    "ts['Semester GPI-1st Sem'].fillna(ts['Semester GPI-1st Sem'].mean(), inplace=True)\n",
    "ts['Semester GPI-2nd Sem'].fillna(ts['Semester GPI-2nd Sem'].mean(), inplace=True)"
   ]
  },
  {
   "cell_type": "code",
   "execution_count": 51,
   "id": "3599fc59",
   "metadata": {
    "ExecuteTime": {
     "end_time": "2023-11-21T00:11:07.617815Z",
     "start_time": "2023-11-21T00:11:07.599778Z"
    }
   },
   "outputs": [],
   "source": [
    "ne_states = [\"PA\", \"DE\", \"MD\", \"MA\", \"VT\", \"NJ\", \"ME\", \"CT\", \"NY\", \"NH\", \"RI\"]\n",
    "sw_states = [\"TX\", \"AZ\", \"NM\", \"OK\"]\n",
    "mw_states = [\"IL\", \"IN\", \"IA\", \"KS\", \"MI\", \"MN\", \"MO\", \"NE\", \"ND\", \"OH\", \"SD\", \"WI\"]\n",
    "w_states = [\"AK\", \"CA\", \"CO\", \"HI\", \"ID\", \"MT\", \"NV\", \"OR\", \"UT\", \"WA\", \"WY\"]\n",
    "s_states = [\"AR\", \"KY\", \"VA\", \"FL\", \"NC\", \"LA\", \"WV\", \"SC\", \"TN\", \"AL\", \"MS\", \"GA\"]\n",
    "\n",
    "ts['NE_State'] = ts['State'].apply(lambda x : 1 if x in ne_states else 0)\n",
    "ts['SW_State'] = ts['State'].apply(lambda x : 1 if x in sw_states else 0)\n",
    "ts['MW_State'] = ts['State'].apply(lambda x : 1 if x in mw_states else 0)\n",
    "ts['W_State'] = ts['State'].apply(lambda x : 1 if x in w_states else 0)\n",
    "ts['S_State'] = ts['State'].apply(lambda x : 1 if x in s_states else 0)"
   ]
  },
  {
   "cell_type": "code",
   "execution_count": 52,
   "id": "625c6f83",
   "metadata": {
    "ExecuteTime": {
     "end_time": "2023-11-21T00:11:09.251361Z",
     "start_time": "2023-11-21T00:11:09.235256Z"
    }
   },
   "outputs": [],
   "source": [
    "ts = ts.join(ranks.set_index('Athletic Code Description 1'), on='Athletic Code Description 1')\n",
    "ts['Rank'].fillna(ts['Rank'].mean(), inplace=True)"
   ]
  },
  {
   "cell_type": "code",
   "execution_count": 55,
   "id": "e0c30be1",
   "metadata": {
    "ExecuteTime": {
     "end_time": "2023-11-21T00:11:41.791276Z",
     "start_time": "2023-11-21T00:11:41.787212Z"
    }
   },
   "outputs": [],
   "source": [
    "ts['Win%'].fillna(ts['Win%'].mean(), inplace=True)"
   ]
  },
  {
   "cell_type": "code",
   "execution_count": 56,
   "id": "c1ce3396",
   "metadata": {
    "ExecuteTime": {
     "end_time": "2023-11-21T00:11:43.308215Z",
     "start_time": "2023-11-21T00:11:43.254240Z"
    }
   },
   "outputs": [],
   "source": [
    "ts.to_csv(\"processed_bu_athletics_data.csv\", index=False)"
   ]
  },
  {
   "cell_type": "markdown",
   "id": "093aec4a",
   "metadata": {},
   "source": [
    "### Building Model"
   ]
  },
  {
   "cell_type": "code",
   "execution_count": 57,
   "id": "efcaa61a",
   "metadata": {
    "ExecuteTime": {
     "end_time": "2023-11-21T00:11:44.965157Z",
     "start_time": "2023-11-21T00:11:44.945575Z"
    }
   },
   "outputs": [],
   "source": [
    "ts = pd.read_csv(\"processed_bu_athletics_data.csv\")"
   ]
  },
  {
   "cell_type": "code",
   "execution_count": 58,
   "id": "66596dec",
   "metadata": {
    "ExecuteTime": {
     "end_time": "2023-11-21T00:11:45.817970Z",
     "start_time": "2023-11-21T00:11:45.813133Z"
    }
   },
   "outputs": [
    {
     "data": {
      "text/plain": [
       "Index(['Data Input Year', 'Student', 'State', 'US Region', 'Country',\n",
       "       'English Language Primary Language of Country',\n",
       "       'IPEDS Race Description', 'Athletic Code 1', 'Team Gender',\n",
       "       'Athletic Code Description 1', 'HYR', 'Entering Term', 'Yr', 'FCLASS',\n",
       "       'RetentionClass', 'ACADINDEX', 'SATCFORAI', 'ACTUSE', 'SATCUSE',\n",
       "       'SATVUSE', 'satm', 'satwr', 'HSGPA', 'FIRSTCOLLEGE', 'FIRSTMAJOR',\n",
       "       'First Major (HEGIS) Description', 'LASTCOLLEGE', 'LASTMAJOR',\n",
       "       'Last Major (HEGIS) Description', 'Last Cumulative BU GPA',\n",
       "       'Cumulative GPA-1st Sem', 'Cumulative GPA-2nd Sem',\n",
       "       'Cumulative GPA-3rd Sem', 'Cumulative GPA-4th Sem',\n",
       "       'Cumulative GPA-5th Sem', 'Cumulative GPA-6th Sem',\n",
       "       'Cumulative GPA-7th Sem', 'Cumulative GPA-8th Sem',\n",
       "       'Cumulative GPA-9th Sem', 'Cumulative GPA-10th Sem',\n",
       "       'Cumulative GPA-11th Sem', 'Cumulative GPA-12th Sem',\n",
       "       'Cumulative GPA-13th Sem', 'Cumulative GPA-14th Sem',\n",
       "       'Cumulative GPA-15th Sem', 'Cumulative GPA-16th Sem',\n",
       "       'Cumulative GPA-17th Sem', 'Cumulative GPA-18th Sem',\n",
       "       'Cumulative GPA-19th Sem', 'Cumulative GPA-20th Sem',\n",
       "       'Cumulative GPA-21st Sem', 'Cumulative GPA-22nd Sem',\n",
       "       'Semester GPI-1st Sem', 'Semester GPI-2nd Sem', 'Semester GPI-3rd Sem',\n",
       "       'Semester GPI-4th Sem', 'Semester GPI-5th Sem', 'Semester GPI-6th Sem',\n",
       "       'Semester GPI-7th Sem', 'Semester GPI-8th Sem', 'Semester GPI-9th Sem',\n",
       "       'Semester GPI-10th Sem', 'Semester GPI-11th Sem',\n",
       "       'Semester GPI-12th Sem', 'Semester GPI-13th Sem',\n",
       "       'Semester GPI-14th Sem', 'Semester GPI-15th Sem',\n",
       "       'Semester GPI-16th Sem', 'Semester GPI-17th Sem',\n",
       "       'Semester GPI-18th Sem', 'Semester GPI-19th Sem',\n",
       "       'Semester GPI-20th Sem', 'Semester GPI-21st Sem',\n",
       "       'Semester GPI-22nd Sem', 'GPA>3.5', 'ChangedMajor', 'NE_State',\n",
       "       'SW_State', 'MW_State', 'W_State', 'S_State', 'Rank', 'Win%'],\n",
       "      dtype='object')"
      ]
     },
     "execution_count": 58,
     "metadata": {},
     "output_type": "execute_result"
    }
   ],
   "source": [
    "ts.columns"
   ]
  },
  {
   "cell_type": "code",
   "execution_count": 59,
   "id": "4ee8597d",
   "metadata": {
    "ExecuteTime": {
     "end_time": "2023-11-21T00:11:55.614851Z",
     "start_time": "2023-11-21T00:11:55.610051Z"
    }
   },
   "outputs": [],
   "source": [
    "# Define transformers for different column subsets\n",
    "\n",
    "numeric_features = ['ACADINDEX', 'SATCFORAI', 'HSGPA', 'Win%']\n",
    "\n",
    "categorical_features = ['English Language Primary Language of Country', 'Country', 'IPEDS Race Description', \n",
    "                        'Athletic Code 1', 'Team Gender', 'Athletic Code Description 1', 'FIRSTCOLLEGE',\n",
    "                        'FIRSTMAJOR', 'LASTMAJOR', 'NE_State', 'SW_State', 'MW_State', 'W_State', 'S_State',\n",
    "                        'ChangedMajor']"
   ]
  },
  {
   "cell_type": "code",
   "execution_count": 60,
   "id": "376e3089",
   "metadata": {
    "ExecuteTime": {
     "end_time": "2023-11-21T00:11:56.286106Z",
     "start_time": "2023-11-21T00:11:56.278883Z"
    }
   },
   "outputs": [],
   "source": [
    "numeric_transformer = Pipeline(steps=[('scaler', StandardScaler())])\n",
    "categorical_transformer = OneHotEncoder()\n",
    "\n",
    "# Combine transformers using ColumnTransformer\n",
    "preprocessor = ColumnTransformer(\n",
    "    transformers=[\n",
    "        ('num', numeric_transformer, numeric_features),\n",
    "        ('cat', categorical_transformer, categorical_features)\n",
    "    ])\n",
    "\n",
    "# pipeline = make_pipeline(KNeighborsClassifier(n_neighbors=10))"
   ]
  },
  {
   "cell_type": "code",
   "execution_count": 61,
   "id": "81b82431",
   "metadata": {
    "ExecuteTime": {
     "end_time": "2023-11-21T00:11:57.919261Z",
     "start_time": "2023-11-21T00:11:57.904173Z"
    }
   },
   "outputs": [],
   "source": [
    "# Split training set into training and testing set\n",
    "X_train, X_test, Y_train, Y_test = train_test_split(\n",
    "        ts.drop(['GPA>3.5'], axis=1),\n",
    "        ts['GPA>3.5'],\n",
    "        test_size=1/5.0,\n",
    "        random_state=0\n",
    "    )"
   ]
  },
  {
   "cell_type": "code",
   "execution_count": 62,
   "id": "f0e94c6b",
   "metadata": {
    "ExecuteTime": {
     "end_time": "2023-11-21T00:11:59.009177Z",
     "start_time": "2023-11-21T00:11:58.611943Z"
    }
   },
   "outputs": [
    {
     "name": "stdout",
     "output_type": "stream",
     "text": [
      "Accuracy on testing set =  0.7638190954773869\n",
      "RMSE on testing set =  0.48598446942532336\n"
     ]
    },
    {
     "data": {
      "image/png": "[encoded data removed]",
      "text/plain": [
       "<Figure size 640x480 with 2 Axes>"
      ]
     },
     "metadata": {},
     "output_type": "display_data"
    }
   ],
   "source": [
    "combined_data = pd.concat([X_train, X_test])\n",
    "X_processed = preprocessor.fit_transform(combined_data)\n",
    "X_train_processed = X_processed[:X_train.shape[0]]\n",
    "X_test_processed = X_processed[X_train.shape[0]:]\n",
    "\n",
    "# Learn the model\n",
    "#model = KNeighborsClassifier(n_neighbors=15).fit(X_train_processed, Y_train)\n",
    "#model = GaussianNB().fit(X_train_processed, Y_train)\n",
    "#model = DecisionTreeClassifier(random_state=0).fit(X_train_processed, Y_train)\n",
    "model = RandomForestClassifier(max_depth=10, random_state=0).fit(X_train_processed, Y_train)\n",
    "# model = LogisticRegression(max_iter=1000).fit(X_train_processed, Y_train)  # You can adjust hyperparameters\n",
    "\n",
    "\n",
    "# # pickle model - saves it so you can load it later\n",
    "# with open('knn_20_model.obj', 'wb') as f:\n",
    "#         pickle.dump(model, f)\n",
    "# # to load pickled model: \n",
    "# # with open('filename', 'rb') as f:\n",
    "# #    model = pickle.load(f)\n",
    "\n",
    "# Evaluate your model on the testing set\n",
    "Y_test_predictions = model.predict(X_test_processed)\n",
    "print(\"Accuracy on testing set = \", accuracy_score(Y_test, Y_test_predictions))\n",
    "print(\"RMSE on testing set = \", mean_squared_error(Y_test, Y_test_predictions) ** 0.5)\n",
    "\n",
    "# Plot a confusion matrix\n",
    "cm = confusion_matrix(Y_test, Y_test_predictions, normalize='true')\n",
    "sns.heatmap(cm, annot=True)\n",
    "plt.title('Confusion matrix of the classifier')\n",
    "plt.xlabel('Predicted')\n",
    "plt.ylabel('True')\n",
    "plt.show()"
   ]
  }
 ],
 "metadata": {
  "kernelspec": {
   "display_name": "Python 3 (ipykernel)",
   "language": "python",
   "name": "python3"
  },
  "language_info": {
   "codemirror_mode": {
    "name": "ipython",
    "version": 3
   },
   "file_extension": ".py",
   "mimetype": "text/x-python",
   "name": "python",
   "nbconvert_exporter": "python",
   "pygments_lexer": "ipython3",
   "version": "3.11.5"
  }
 },
 "nbformat": 4,
 "nbformat_minor": 5
}
